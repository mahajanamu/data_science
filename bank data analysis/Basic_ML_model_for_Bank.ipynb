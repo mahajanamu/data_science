{
 "cells": [
  {
   "cell_type": "markdown",
   "id": "2c6eb918",
   "metadata": {},
   "source": [
    "### Importing modules"
   ]
  },
  {
   "cell_type": "code",
   "execution_count": 1,
   "id": "46a9d052",
   "metadata": {},
   "outputs": [],
   "source": [
    "import pandas as pd\n",
    "import numpy as np\n",
    "import matplotlib.pyplot as plt\n",
    "import seaborn "
   ]
  },
  {
   "cell_type": "markdown",
   "id": "894e6f48",
   "metadata": {},
   "source": [
    "### reading the dataset"
   ]
  },
  {
   "cell_type": "markdown",
   "id": "520b62dc",
   "metadata": {},
   "source": [
    "###### Bank Marketing Dataset\n",
    "The data is related with direct marketing campaigns of a Portuguese banking institution.\n",
    "\n",
    "The marketing campaigns were based on phone calls. Often, more than one contact to the same client was required, \n",
    "\n",
    "In order to access if the product (bank term deposit) would be (or not) subscribed. \n"
   ]
  },
  {
   "cell_type": "code",
   "execution_count": 2,
   "id": "b4f637ce",
   "metadata": {},
   "outputs": [
    {
     "data": {
      "text/html": [
       "<div>\n",
       "<style scoped>\n",
       "    .dataframe tbody tr th:only-of-type {\n",
       "        vertical-align: middle;\n",
       "    }\n",
       "\n",
       "    .dataframe tbody tr th {\n",
       "        vertical-align: top;\n",
       "    }\n",
       "\n",
       "    .dataframe thead th {\n",
       "        text-align: right;\n",
       "    }\n",
       "</style>\n",
       "<table border=\"1\" class=\"dataframe\">\n",
       "  <thead>\n",
       "    <tr style=\"text-align: right;\">\n",
       "      <th></th>\n",
       "      <th>age</th>\n",
       "      <th>job</th>\n",
       "      <th>marital</th>\n",
       "      <th>education</th>\n",
       "      <th>default</th>\n",
       "      <th>balance</th>\n",
       "      <th>housing</th>\n",
       "      <th>loan</th>\n",
       "      <th>contact</th>\n",
       "      <th>day</th>\n",
       "      <th>month</th>\n",
       "      <th>duration</th>\n",
       "      <th>campaign</th>\n",
       "      <th>pdays</th>\n",
       "      <th>previous</th>\n",
       "      <th>poutcome</th>\n",
       "      <th>y</th>\n",
       "    </tr>\n",
       "  </thead>\n",
       "  <tbody>\n",
       "    <tr>\n",
       "      <th>0</th>\n",
       "      <td>58</td>\n",
       "      <td>management</td>\n",
       "      <td>married</td>\n",
       "      <td>tertiary</td>\n",
       "      <td>no</td>\n",
       "      <td>2143</td>\n",
       "      <td>yes</td>\n",
       "      <td>no</td>\n",
       "      <td>unknown</td>\n",
       "      <td>5</td>\n",
       "      <td>may</td>\n",
       "      <td>261</td>\n",
       "      <td>1</td>\n",
       "      <td>-1</td>\n",
       "      <td>0</td>\n",
       "      <td>unknown</td>\n",
       "      <td>no</td>\n",
       "    </tr>\n",
       "    <tr>\n",
       "      <th>1</th>\n",
       "      <td>44</td>\n",
       "      <td>technician</td>\n",
       "      <td>single</td>\n",
       "      <td>secondary</td>\n",
       "      <td>no</td>\n",
       "      <td>29</td>\n",
       "      <td>yes</td>\n",
       "      <td>no</td>\n",
       "      <td>unknown</td>\n",
       "      <td>5</td>\n",
       "      <td>may</td>\n",
       "      <td>151</td>\n",
       "      <td>1</td>\n",
       "      <td>-1</td>\n",
       "      <td>0</td>\n",
       "      <td>unknown</td>\n",
       "      <td>no</td>\n",
       "    </tr>\n",
       "    <tr>\n",
       "      <th>2</th>\n",
       "      <td>33</td>\n",
       "      <td>entrepreneur</td>\n",
       "      <td>married</td>\n",
       "      <td>secondary</td>\n",
       "      <td>no</td>\n",
       "      <td>2</td>\n",
       "      <td>yes</td>\n",
       "      <td>yes</td>\n",
       "      <td>unknown</td>\n",
       "      <td>5</td>\n",
       "      <td>may</td>\n",
       "      <td>76</td>\n",
       "      <td>1</td>\n",
       "      <td>-1</td>\n",
       "      <td>0</td>\n",
       "      <td>unknown</td>\n",
       "      <td>no</td>\n",
       "    </tr>\n",
       "    <tr>\n",
       "      <th>3</th>\n",
       "      <td>47</td>\n",
       "      <td>blue-collar</td>\n",
       "      <td>married</td>\n",
       "      <td>unknown</td>\n",
       "      <td>no</td>\n",
       "      <td>1506</td>\n",
       "      <td>yes</td>\n",
       "      <td>no</td>\n",
       "      <td>unknown</td>\n",
       "      <td>5</td>\n",
       "      <td>may</td>\n",
       "      <td>92</td>\n",
       "      <td>1</td>\n",
       "      <td>-1</td>\n",
       "      <td>0</td>\n",
       "      <td>unknown</td>\n",
       "      <td>no</td>\n",
       "    </tr>\n",
       "    <tr>\n",
       "      <th>4</th>\n",
       "      <td>33</td>\n",
       "      <td>unknown</td>\n",
       "      <td>single</td>\n",
       "      <td>unknown</td>\n",
       "      <td>no</td>\n",
       "      <td>1</td>\n",
       "      <td>no</td>\n",
       "      <td>no</td>\n",
       "      <td>unknown</td>\n",
       "      <td>5</td>\n",
       "      <td>may</td>\n",
       "      <td>198</td>\n",
       "      <td>1</td>\n",
       "      <td>-1</td>\n",
       "      <td>0</td>\n",
       "      <td>unknown</td>\n",
       "      <td>no</td>\n",
       "    </tr>\n",
       "    <tr>\n",
       "      <th>...</th>\n",
       "      <td>...</td>\n",
       "      <td>...</td>\n",
       "      <td>...</td>\n",
       "      <td>...</td>\n",
       "      <td>...</td>\n",
       "      <td>...</td>\n",
       "      <td>...</td>\n",
       "      <td>...</td>\n",
       "      <td>...</td>\n",
       "      <td>...</td>\n",
       "      <td>...</td>\n",
       "      <td>...</td>\n",
       "      <td>...</td>\n",
       "      <td>...</td>\n",
       "      <td>...</td>\n",
       "      <td>...</td>\n",
       "      <td>...</td>\n",
       "    </tr>\n",
       "    <tr>\n",
       "      <th>45206</th>\n",
       "      <td>51</td>\n",
       "      <td>technician</td>\n",
       "      <td>married</td>\n",
       "      <td>tertiary</td>\n",
       "      <td>no</td>\n",
       "      <td>825</td>\n",
       "      <td>no</td>\n",
       "      <td>no</td>\n",
       "      <td>cellular</td>\n",
       "      <td>17</td>\n",
       "      <td>nov</td>\n",
       "      <td>977</td>\n",
       "      <td>3</td>\n",
       "      <td>-1</td>\n",
       "      <td>0</td>\n",
       "      <td>unknown</td>\n",
       "      <td>yes</td>\n",
       "    </tr>\n",
       "    <tr>\n",
       "      <th>45207</th>\n",
       "      <td>71</td>\n",
       "      <td>retired</td>\n",
       "      <td>divorced</td>\n",
       "      <td>primary</td>\n",
       "      <td>no</td>\n",
       "      <td>1729</td>\n",
       "      <td>no</td>\n",
       "      <td>no</td>\n",
       "      <td>cellular</td>\n",
       "      <td>17</td>\n",
       "      <td>nov</td>\n",
       "      <td>456</td>\n",
       "      <td>2</td>\n",
       "      <td>-1</td>\n",
       "      <td>0</td>\n",
       "      <td>unknown</td>\n",
       "      <td>yes</td>\n",
       "    </tr>\n",
       "    <tr>\n",
       "      <th>45208</th>\n",
       "      <td>72</td>\n",
       "      <td>retired</td>\n",
       "      <td>married</td>\n",
       "      <td>secondary</td>\n",
       "      <td>no</td>\n",
       "      <td>5715</td>\n",
       "      <td>no</td>\n",
       "      <td>no</td>\n",
       "      <td>cellular</td>\n",
       "      <td>17</td>\n",
       "      <td>nov</td>\n",
       "      <td>1127</td>\n",
       "      <td>5</td>\n",
       "      <td>184</td>\n",
       "      <td>3</td>\n",
       "      <td>success</td>\n",
       "      <td>yes</td>\n",
       "    </tr>\n",
       "    <tr>\n",
       "      <th>45209</th>\n",
       "      <td>57</td>\n",
       "      <td>blue-collar</td>\n",
       "      <td>married</td>\n",
       "      <td>secondary</td>\n",
       "      <td>no</td>\n",
       "      <td>668</td>\n",
       "      <td>no</td>\n",
       "      <td>no</td>\n",
       "      <td>telephone</td>\n",
       "      <td>17</td>\n",
       "      <td>nov</td>\n",
       "      <td>508</td>\n",
       "      <td>4</td>\n",
       "      <td>-1</td>\n",
       "      <td>0</td>\n",
       "      <td>unknown</td>\n",
       "      <td>no</td>\n",
       "    </tr>\n",
       "    <tr>\n",
       "      <th>45210</th>\n",
       "      <td>37</td>\n",
       "      <td>entrepreneur</td>\n",
       "      <td>married</td>\n",
       "      <td>secondary</td>\n",
       "      <td>no</td>\n",
       "      <td>2971</td>\n",
       "      <td>no</td>\n",
       "      <td>no</td>\n",
       "      <td>cellular</td>\n",
       "      <td>17</td>\n",
       "      <td>nov</td>\n",
       "      <td>361</td>\n",
       "      <td>2</td>\n",
       "      <td>188</td>\n",
       "      <td>11</td>\n",
       "      <td>other</td>\n",
       "      <td>no</td>\n",
       "    </tr>\n",
       "  </tbody>\n",
       "</table>\n",
       "<p>45211 rows × 17 columns</p>\n",
       "</div>"
      ],
      "text/plain": [
       "       age           job   marital  education default  balance housing loan  \\\n",
       "0       58    management   married   tertiary      no     2143     yes   no   \n",
       "1       44    technician    single  secondary      no       29     yes   no   \n",
       "2       33  entrepreneur   married  secondary      no        2     yes  yes   \n",
       "3       47   blue-collar   married    unknown      no     1506     yes   no   \n",
       "4       33       unknown    single    unknown      no        1      no   no   \n",
       "...    ...           ...       ...        ...     ...      ...     ...  ...   \n",
       "45206   51    technician   married   tertiary      no      825      no   no   \n",
       "45207   71       retired  divorced    primary      no     1729      no   no   \n",
       "45208   72       retired   married  secondary      no     5715      no   no   \n",
       "45209   57   blue-collar   married  secondary      no      668      no   no   \n",
       "45210   37  entrepreneur   married  secondary      no     2971      no   no   \n",
       "\n",
       "         contact  day month  duration  campaign  pdays  previous poutcome    y  \n",
       "0        unknown    5   may       261         1     -1         0  unknown   no  \n",
       "1        unknown    5   may       151         1     -1         0  unknown   no  \n",
       "2        unknown    5   may        76         1     -1         0  unknown   no  \n",
       "3        unknown    5   may        92         1     -1         0  unknown   no  \n",
       "4        unknown    5   may       198         1     -1         0  unknown   no  \n",
       "...          ...  ...   ...       ...       ...    ...       ...      ...  ...  \n",
       "45206   cellular   17   nov       977         3     -1         0  unknown  yes  \n",
       "45207   cellular   17   nov       456         2     -1         0  unknown  yes  \n",
       "45208   cellular   17   nov      1127         5    184         3  success  yes  \n",
       "45209  telephone   17   nov       508         4     -1         0  unknown   no  \n",
       "45210   cellular   17   nov       361         2    188        11    other   no  \n",
       "\n",
       "[45211 rows x 17 columns]"
      ]
     },
     "execution_count": 2,
     "metadata": {},
     "output_type": "execute_result"
    }
   ],
   "source": [
    "data = pd.read_csv(\"data/bank-full.csv\",sep=\";\")\n",
    "data"
   ]
  },
  {
   "cell_type": "markdown",
   "id": "8ca3a179",
   "metadata": {},
   "source": [
    "### Analysing the dataset"
   ]
  },
  {
   "cell_type": "code",
   "execution_count": 3,
   "id": "633a470b",
   "metadata": {},
   "outputs": [
    {
     "name": "stdout",
     "output_type": "stream",
     "text": [
      "<class 'pandas.core.frame.DataFrame'>\n",
      "RangeIndex: 45211 entries, 0 to 45210\n",
      "Data columns (total 17 columns):\n",
      " #   Column     Non-Null Count  Dtype \n",
      "---  ------     --------------  ----- \n",
      " 0   age        45211 non-null  int64 \n",
      " 1   job        45211 non-null  object\n",
      " 2   marital    45211 non-null  object\n",
      " 3   education  45211 non-null  object\n",
      " 4   default    45211 non-null  object\n",
      " 5   balance    45211 non-null  int64 \n",
      " 6   housing    45211 non-null  object\n",
      " 7   loan       45211 non-null  object\n",
      " 8   contact    45211 non-null  object\n",
      " 9   day        45211 non-null  int64 \n",
      " 10  month      45211 non-null  object\n",
      " 11  duration   45211 non-null  int64 \n",
      " 12  campaign   45211 non-null  int64 \n",
      " 13  pdays      45211 non-null  int64 \n",
      " 14  previous   45211 non-null  int64 \n",
      " 15  poutcome   45211 non-null  object\n",
      " 16  y          45211 non-null  object\n",
      "dtypes: int64(7), object(10)\n",
      "memory usage: 5.9+ MB\n"
     ]
    }
   ],
   "source": [
    "## To get the DataType of each columns and go through the columns\n",
    "data.info()"
   ]
  },
  {
   "cell_type": "code",
   "execution_count": 4,
   "id": "1da3d788",
   "metadata": {},
   "outputs": [
    {
     "data": {
      "text/html": [
       "<div>\n",
       "<style scoped>\n",
       "    .dataframe tbody tr th:only-of-type {\n",
       "        vertical-align: middle;\n",
       "    }\n",
       "\n",
       "    .dataframe tbody tr th {\n",
       "        vertical-align: top;\n",
       "    }\n",
       "\n",
       "    .dataframe thead th {\n",
       "        text-align: right;\n",
       "    }\n",
       "</style>\n",
       "<table border=\"1\" class=\"dataframe\">\n",
       "  <thead>\n",
       "    <tr style=\"text-align: right;\">\n",
       "      <th></th>\n",
       "      <th>age</th>\n",
       "      <th>balance</th>\n",
       "      <th>day</th>\n",
       "      <th>duration</th>\n",
       "      <th>campaign</th>\n",
       "      <th>pdays</th>\n",
       "      <th>previous</th>\n",
       "    </tr>\n",
       "  </thead>\n",
       "  <tbody>\n",
       "    <tr>\n",
       "      <th>count</th>\n",
       "      <td>45211.000000</td>\n",
       "      <td>45211.000000</td>\n",
       "      <td>45211.000000</td>\n",
       "      <td>45211.000000</td>\n",
       "      <td>45211.000000</td>\n",
       "      <td>45211.000000</td>\n",
       "      <td>45211.000000</td>\n",
       "    </tr>\n",
       "    <tr>\n",
       "      <th>mean</th>\n",
       "      <td>40.936210</td>\n",
       "      <td>1362.272058</td>\n",
       "      <td>15.806419</td>\n",
       "      <td>258.163080</td>\n",
       "      <td>2.763841</td>\n",
       "      <td>40.197828</td>\n",
       "      <td>0.580323</td>\n",
       "    </tr>\n",
       "    <tr>\n",
       "      <th>std</th>\n",
       "      <td>10.618762</td>\n",
       "      <td>3044.765829</td>\n",
       "      <td>8.322476</td>\n",
       "      <td>257.527812</td>\n",
       "      <td>3.098021</td>\n",
       "      <td>100.128746</td>\n",
       "      <td>2.303441</td>\n",
       "    </tr>\n",
       "    <tr>\n",
       "      <th>min</th>\n",
       "      <td>18.000000</td>\n",
       "      <td>-8019.000000</td>\n",
       "      <td>1.000000</td>\n",
       "      <td>0.000000</td>\n",
       "      <td>1.000000</td>\n",
       "      <td>-1.000000</td>\n",
       "      <td>0.000000</td>\n",
       "    </tr>\n",
       "    <tr>\n",
       "      <th>25%</th>\n",
       "      <td>33.000000</td>\n",
       "      <td>72.000000</td>\n",
       "      <td>8.000000</td>\n",
       "      <td>103.000000</td>\n",
       "      <td>1.000000</td>\n",
       "      <td>-1.000000</td>\n",
       "      <td>0.000000</td>\n",
       "    </tr>\n",
       "    <tr>\n",
       "      <th>50%</th>\n",
       "      <td>39.000000</td>\n",
       "      <td>448.000000</td>\n",
       "      <td>16.000000</td>\n",
       "      <td>180.000000</td>\n",
       "      <td>2.000000</td>\n",
       "      <td>-1.000000</td>\n",
       "      <td>0.000000</td>\n",
       "    </tr>\n",
       "    <tr>\n",
       "      <th>75%</th>\n",
       "      <td>48.000000</td>\n",
       "      <td>1428.000000</td>\n",
       "      <td>21.000000</td>\n",
       "      <td>319.000000</td>\n",
       "      <td>3.000000</td>\n",
       "      <td>-1.000000</td>\n",
       "      <td>0.000000</td>\n",
       "    </tr>\n",
       "    <tr>\n",
       "      <th>max</th>\n",
       "      <td>95.000000</td>\n",
       "      <td>102127.000000</td>\n",
       "      <td>31.000000</td>\n",
       "      <td>4918.000000</td>\n",
       "      <td>63.000000</td>\n",
       "      <td>871.000000</td>\n",
       "      <td>275.000000</td>\n",
       "    </tr>\n",
       "  </tbody>\n",
       "</table>\n",
       "</div>"
      ],
      "text/plain": [
       "                age        balance           day      duration      campaign  \\\n",
       "count  45211.000000   45211.000000  45211.000000  45211.000000  45211.000000   \n",
       "mean      40.936210    1362.272058     15.806419    258.163080      2.763841   \n",
       "std       10.618762    3044.765829      8.322476    257.527812      3.098021   \n",
       "min       18.000000   -8019.000000      1.000000      0.000000      1.000000   \n",
       "25%       33.000000      72.000000      8.000000    103.000000      1.000000   \n",
       "50%       39.000000     448.000000     16.000000    180.000000      2.000000   \n",
       "75%       48.000000    1428.000000     21.000000    319.000000      3.000000   \n",
       "max       95.000000  102127.000000     31.000000   4918.000000     63.000000   \n",
       "\n",
       "              pdays      previous  \n",
       "count  45211.000000  45211.000000  \n",
       "mean      40.197828      0.580323  \n",
       "std      100.128746      2.303441  \n",
       "min       -1.000000      0.000000  \n",
       "25%       -1.000000      0.000000  \n",
       "50%       -1.000000      0.000000  \n",
       "75%       -1.000000      0.000000  \n",
       "max      871.000000    275.000000  "
      ]
     },
     "execution_count": 4,
     "metadata": {},
     "output_type": "execute_result"
    }
   ],
   "source": [
    "## To go through the count mean percentile standard dev etc of each column in dataframe\n",
    "data.describe()"
   ]
  },
  {
   "cell_type": "code",
   "execution_count": 5,
   "id": "e9943cec",
   "metadata": {
    "scrolled": false
   },
   "outputs": [
    {
     "data": {
      "text/plain": [
       "age          0\n",
       "job          0\n",
       "marital      0\n",
       "education    0\n",
       "default      0\n",
       "balance      0\n",
       "housing      0\n",
       "loan         0\n",
       "contact      0\n",
       "day          0\n",
       "month        0\n",
       "duration     0\n",
       "campaign     0\n",
       "pdays        0\n",
       "previous     0\n",
       "poutcome     0\n",
       "y            0\n",
       "dtype: int64"
      ]
     },
     "execution_count": 5,
     "metadata": {},
     "output_type": "execute_result"
    }
   ],
   "source": [
    "## Findout the Null values in DataFrame\n",
    "data.isnull().sum()"
   ]
  },
  {
   "cell_type": "markdown",
   "id": "b8e891d6",
   "metadata": {},
   "source": [
    "### Plotting the features of the dataset"
   ]
  },
  {
   "cell_type": "code",
   "execution_count": 6,
   "id": "92f4583f",
   "metadata": {
    "scrolled": false
   },
   "outputs": [
    {
     "name": "stdout",
     "output_type": "stream",
     "text": [
      "32    2085\n",
      "31    1996\n",
      "33    1972\n",
      "34    1930\n",
      "35    1894\n",
      "      ... \n",
      "90       2\n",
      "92       2\n",
      "93       2\n",
      "95       2\n",
      "94       1\n",
      "Name: age, Length: 77, dtype: int64\n"
     ]
    },
    {
     "data": {
      "image/png": "[encoded data removed]",
      "text/plain": [
       "<Figure size 432x288 with 1 Axes>"
      ]
     },
     "metadata": {
      "needs_background": "light"
     },
     "output_type": "display_data"
    },
    {
     "name": "stdout",
     "output_type": "stream",
     "text": [
      "blue-collar      9732\n",
      "management       9458\n",
      "technician       7597\n",
      "admin.           5171\n",
      "services         4154\n",
      "retired          2264\n",
      "self-employed    1579\n",
      "entrepreneur     1487\n",
      "unemployed       1303\n",
      "housemaid        1240\n",
      "student           938\n",
      "unknown           288\n",
      "Name: job, dtype: int64\n"
     ]
    },
    {
     "data": {
      "image/png": "[encoded data removed]",
      "text/plain": [
       "<Figure size 432x288 with 1 Axes>"
      ]
     },
     "metadata": {
      "needs_background": "light"
     },
     "output_type": "display_data"
    },
    {
     "name": "stdout",
     "output_type": "stream",
     "text": [
      "married     27214\n",
      "single      12790\n",
      "divorced     5207\n",
      "Name: marital, dtype: int64\n"
     ]
    },
    {
     "data": {
      "image/png": "[encoded data removed]",
      "text/plain": [
       "<Figure size 432x288 with 1 Axes>"
      ]
     },
     "metadata": {
      "needs_background": "light"
     },
     "output_type": "display_data"
    },
    {
     "name": "stdout",
     "output_type": "stream",
     "text": [
      "secondary    23202\n",
      "tertiary     13301\n",
      "primary       6851\n",
      "unknown       1857\n",
      "Name: education, dtype: int64\n"
     ]
    },
    {
     "data": {
      "image/png": "[encoded data removed]",
      "text/plain": [
       "<Figure size 432x288 with 1 Axes>"
      ]
     },
     "metadata": {
      "needs_background": "light"
     },
     "output_type": "display_data"
    },
    {
     "name": "stdout",
     "output_type": "stream",
     "text": [
      "no     44396\n",
      "yes      815\n",
      "Name: default, dtype: int64\n"
     ]
    },
    {
     "data": {
      "image/png": "[encoded data removed]",
      "text/plain": [
       "<Figure size 432x288 with 1 Axes>"
      ]
     },
     "metadata": {
      "needs_background": "light"
     },
     "output_type": "display_data"
    },
    {
     "name": "stdout",
     "output_type": "stream",
     "text": [
      "no     39922\n",
      "yes     5289\n",
      "Name: y, dtype: int64\n"
     ]
    },
    {
     "data": {
      "image/png": "[encoded data removed]",
      "text/plain": [
       "<Figure size 432x288 with 1 Axes>"
      ]
     },
     "metadata": {
      "needs_background": "light"
     },
     "output_type": "display_data"
    }
   ],
   "source": [
    "color_col = [\"indianred\",\"crimson\",\"peru\",\"purple\",\"olive\",\"yellow\"]\n",
    "data_col = [\"age\",'job','marital', 'education','default','y']\n",
    "for col,clr in zip(data_col,color_col):\n",
    "    x = data[col]\n",
    "    print(x.value_counts())\n",
    "    plt.hist(x = x, bins = 2*len(x.unique())-1, color = clr)\n",
    "    plt.title(f'Plot of {col}')\n",
    "    plt.xlabel(f'{col}')\n",
    "    plt.ylabel('population')\n",
    "    plt.xticks(rotation = 90)\n",
    "    plt.show()"
   ]
  },
  {
   "cell_type": "markdown",
   "id": "6fd0340f",
   "metadata": {},
   "source": [
    "### Removing the unnecassary features from the dataset"
   ]
  },
  {
   "cell_type": "code",
   "execution_count": 7,
   "id": "c10e9911",
   "metadata": {},
   "outputs": [
    {
     "name": "stdout",
     "output_type": "stream",
     "text": [
      "Index(['age', 'job', 'marital', 'education', 'default', 'balance', 'housing',\n",
      "       'loan', 'month', 'duration', 'campaign', 'pdays', 'previous',\n",
      "       'poutcome', 'y'],\n",
      "      dtype='object')\n"
     ]
    }
   ],
   "source": [
    "data = data.drop(['contact', 'day'], axis = 1)\n",
    "print(data.columns)"
   ]
  },
  {
   "cell_type": "markdown",
   "id": "ee80ee82",
   "metadata": {},
   "source": [
    "### splitting the dataset into x(independent variables) and y(dependent variables)"
   ]
  },
  {
   "cell_type": "code",
   "execution_count": 8,
   "id": "2109dcd4",
   "metadata": {},
   "outputs": [
    {
     "name": "stdout",
     "output_type": "stream",
     "text": [
      "(45211, 14)\n",
      "(45211,)\n",
      "Index(['age', 'job', 'marital', 'education', 'default', 'balance', 'housing',\n",
      "       'loan', 'month', 'duration', 'campaign', 'pdays', 'previous',\n",
      "       'poutcome'],\n",
      "      dtype='object')\n"
     ]
    }
   ],
   "source": [
    "x = data.iloc[:,:-1]\n",
    "y = data.iloc[:,-1]\n",
    "print(x.shape)\n",
    "print(y.shape)\n",
    "print(x.columns)"
   ]
  },
  {
   "cell_type": "markdown",
   "id": "3b48960f",
   "metadata": {},
   "source": [
    "### Convert column y into Numerical"
   ]
  },
  {
   "cell_type": "code",
   "execution_count": 9,
   "id": "18f3bea1",
   "metadata": {},
   "outputs": [
    {
     "data": {
      "text/plain": [
       "array([0, 0, 0, ..., 1, 0, 0])"
      ]
     },
     "execution_count": 9,
     "metadata": {},
     "output_type": "execute_result"
    }
   ],
   "source": [
    "from sklearn import preprocessing\n",
    "# label_encoder object knows how to understand word labels.\n",
    "label_encoder = preprocessing.LabelEncoder()\n",
    "y = label_encoder.fit_transform(y)\n",
    "y"
   ]
  },
  {
   "cell_type": "markdown",
   "id": "76712632",
   "metadata": {},
   "source": [
    "### Implementing one hot encoding\n"
   ]
  },
  {
   "cell_type": "code",
   "execution_count": 10,
   "id": "dc998fc6",
   "metadata": {},
   "outputs": [
    {
     "data": {
      "text/html": [
       "<div>\n",
       "<style scoped>\n",
       "    .dataframe tbody tr th:only-of-type {\n",
       "        vertical-align: middle;\n",
       "    }\n",
       "\n",
       "    .dataframe tbody tr th {\n",
       "        vertical-align: top;\n",
       "    }\n",
       "\n",
       "    .dataframe thead th {\n",
       "        text-align: right;\n",
       "    }\n",
       "</style>\n",
       "<table border=\"1\" class=\"dataframe\">\n",
       "  <thead>\n",
       "    <tr style=\"text-align: right;\">\n",
       "      <th></th>\n",
       "      <th>age</th>\n",
       "      <th>balance</th>\n",
       "      <th>duration</th>\n",
       "      <th>campaign</th>\n",
       "      <th>pdays</th>\n",
       "      <th>previous</th>\n",
       "      <th>admin.</th>\n",
       "      <th>blue-collar</th>\n",
       "      <th>entrepreneur</th>\n",
       "      <th>housemaid</th>\n",
       "      <th>...</th>\n",
       "      <th>jun</th>\n",
       "      <th>mar</th>\n",
       "      <th>may</th>\n",
       "      <th>nov</th>\n",
       "      <th>oct</th>\n",
       "      <th>sep</th>\n",
       "      <th>failure</th>\n",
       "      <th>other</th>\n",
       "      <th>success</th>\n",
       "      <th>unknown</th>\n",
       "    </tr>\n",
       "  </thead>\n",
       "  <tbody>\n",
       "    <tr>\n",
       "      <th>0</th>\n",
       "      <td>58</td>\n",
       "      <td>2143</td>\n",
       "      <td>261</td>\n",
       "      <td>1</td>\n",
       "      <td>-1</td>\n",
       "      <td>0</td>\n",
       "      <td>0.0</td>\n",
       "      <td>0.0</td>\n",
       "      <td>0.0</td>\n",
       "      <td>0.0</td>\n",
       "      <td>...</td>\n",
       "      <td>0.0</td>\n",
       "      <td>0.0</td>\n",
       "      <td>1.0</td>\n",
       "      <td>0.0</td>\n",
       "      <td>0.0</td>\n",
       "      <td>0.0</td>\n",
       "      <td>0.0</td>\n",
       "      <td>0.0</td>\n",
       "      <td>0.0</td>\n",
       "      <td>1.0</td>\n",
       "    </tr>\n",
       "    <tr>\n",
       "      <th>1</th>\n",
       "      <td>44</td>\n",
       "      <td>29</td>\n",
       "      <td>151</td>\n",
       "      <td>1</td>\n",
       "      <td>-1</td>\n",
       "      <td>0</td>\n",
       "      <td>0.0</td>\n",
       "      <td>0.0</td>\n",
       "      <td>0.0</td>\n",
       "      <td>0.0</td>\n",
       "      <td>...</td>\n",
       "      <td>0.0</td>\n",
       "      <td>0.0</td>\n",
       "      <td>1.0</td>\n",
       "      <td>0.0</td>\n",
       "      <td>0.0</td>\n",
       "      <td>0.0</td>\n",
       "      <td>0.0</td>\n",
       "      <td>0.0</td>\n",
       "      <td>0.0</td>\n",
       "      <td>1.0</td>\n",
       "    </tr>\n",
       "    <tr>\n",
       "      <th>2</th>\n",
       "      <td>33</td>\n",
       "      <td>2</td>\n",
       "      <td>76</td>\n",
       "      <td>1</td>\n",
       "      <td>-1</td>\n",
       "      <td>0</td>\n",
       "      <td>0.0</td>\n",
       "      <td>0.0</td>\n",
       "      <td>1.0</td>\n",
       "      <td>0.0</td>\n",
       "      <td>...</td>\n",
       "      <td>0.0</td>\n",
       "      <td>0.0</td>\n",
       "      <td>1.0</td>\n",
       "      <td>0.0</td>\n",
       "      <td>0.0</td>\n",
       "      <td>0.0</td>\n",
       "      <td>0.0</td>\n",
       "      <td>0.0</td>\n",
       "      <td>0.0</td>\n",
       "      <td>1.0</td>\n",
       "    </tr>\n",
       "    <tr>\n",
       "      <th>3</th>\n",
       "      <td>47</td>\n",
       "      <td>1506</td>\n",
       "      <td>92</td>\n",
       "      <td>1</td>\n",
       "      <td>-1</td>\n",
       "      <td>0</td>\n",
       "      <td>0.0</td>\n",
       "      <td>1.0</td>\n",
       "      <td>0.0</td>\n",
       "      <td>0.0</td>\n",
       "      <td>...</td>\n",
       "      <td>0.0</td>\n",
       "      <td>0.0</td>\n",
       "      <td>1.0</td>\n",
       "      <td>0.0</td>\n",
       "      <td>0.0</td>\n",
       "      <td>0.0</td>\n",
       "      <td>0.0</td>\n",
       "      <td>0.0</td>\n",
       "      <td>0.0</td>\n",
       "      <td>1.0</td>\n",
       "    </tr>\n",
       "    <tr>\n",
       "      <th>4</th>\n",
       "      <td>33</td>\n",
       "      <td>1</td>\n",
       "      <td>198</td>\n",
       "      <td>1</td>\n",
       "      <td>-1</td>\n",
       "      <td>0</td>\n",
       "      <td>0.0</td>\n",
       "      <td>0.0</td>\n",
       "      <td>0.0</td>\n",
       "      <td>0.0</td>\n",
       "      <td>...</td>\n",
       "      <td>0.0</td>\n",
       "      <td>0.0</td>\n",
       "      <td>1.0</td>\n",
       "      <td>0.0</td>\n",
       "      <td>0.0</td>\n",
       "      <td>0.0</td>\n",
       "      <td>0.0</td>\n",
       "      <td>0.0</td>\n",
       "      <td>0.0</td>\n",
       "      <td>1.0</td>\n",
       "    </tr>\n",
       "  </tbody>\n",
       "</table>\n",
       "<p>5 rows × 47 columns</p>\n",
       "</div>"
      ],
      "text/plain": [
       "   age  balance  duration  campaign  pdays  previous  admin.  blue-collar  \\\n",
       "0   58     2143       261         1     -1         0     0.0          0.0   \n",
       "1   44       29       151         1     -1         0     0.0          0.0   \n",
       "2   33        2        76         1     -1         0     0.0          0.0   \n",
       "3   47     1506        92         1     -1         0     0.0          1.0   \n",
       "4   33        1       198         1     -1         0     0.0          0.0   \n",
       "\n",
       "   entrepreneur  housemaid  ...  jun  mar  may  nov  oct  sep  failure  other  \\\n",
       "0           0.0        0.0  ...  0.0  0.0  1.0  0.0  0.0  0.0      0.0    0.0   \n",
       "1           0.0        0.0  ...  0.0  0.0  1.0  0.0  0.0  0.0      0.0    0.0   \n",
       "2           1.0        0.0  ...  0.0  0.0  1.0  0.0  0.0  0.0      0.0    0.0   \n",
       "3           0.0        0.0  ...  0.0  0.0  1.0  0.0  0.0  0.0      0.0    0.0   \n",
       "4           0.0        0.0  ...  0.0  0.0  1.0  0.0  0.0  0.0      0.0    0.0   \n",
       "\n",
       "   success  unknown  \n",
       "0      0.0      1.0  \n",
       "1      0.0      1.0  \n",
       "2      0.0      1.0  \n",
       "3      0.0      1.0  \n",
       "4      0.0      1.0  \n",
       "\n",
       "[5 rows x 47 columns]"
      ]
     },
     "execution_count": 10,
     "metadata": {},
     "output_type": "execute_result"
    }
   ],
   "source": [
    "from sklearn.preprocessing import OneHotEncoder\n",
    "def get_all_col(enc): ## This is function to get the list of all the encoded columns\n",
    "    all_cat_col = []\n",
    "    for cat in enc.categories_:\n",
    "        for val in cat:\n",
    "            all_cat_col.append(val)\n",
    "    return all_cat_col\n",
    "\n",
    "cat_col = x.select_dtypes(include=['object']).columns.copy() ## Select only categorical columns\n",
    "enc = OneHotEncoder(sparse=False) ## Defining one hot encoder\n",
    "ohec = enc.fit_transform(x[cat_col])\n",
    "encoded_df = pd.DataFrame(ohec,columns=get_all_col(enc)) ## Creating DataFrame from ndarray\n",
    "\n",
    "x = x.join(encoded_df).drop(cat_col,axis=1)\n",
    "\n",
    "x.head()"
   ]
  },
  {
   "cell_type": "code",
   "execution_count": 11,
   "id": "6c549ed8",
   "metadata": {},
   "outputs": [],
   "source": [
    "# # Encoding Categorical variables into numerical variables\n",
    "# # One Hot Encoding\n",
    "# x = pd.get_dummies(x)\n",
    "# x"
   ]
  },
  {
   "cell_type": "code",
   "execution_count": 12,
   "id": "d1e36f7c",
   "metadata": {},
   "outputs": [
    {
     "name": "stdout",
     "output_type": "stream",
     "text": [
      "(33908, 47)\n",
      "(33908,)\n",
      "(11303, 47)\n",
      "(11303,)\n"
     ]
    }
   ],
   "source": [
    "# splitting the data into training and testing set\n",
    "\n",
    "from sklearn.model_selection import train_test_split\n",
    "x_train, x_test, y_train, y_test = train_test_split(x, y, test_size = 0.25, random_state = 0)\n",
    "\n",
    "print(x_train.shape)\n",
    "print(y_train.shape)\n",
    "print(x_test.shape)\n",
    "print(y_test.shape)"
   ]
  },
  {
   "cell_type": "code",
   "execution_count": 13,
   "id": "bcafb042",
   "metadata": {},
   "outputs": [
    {
     "data": {
      "text/html": [
       "<div>\n",
       "<style scoped>\n",
       "    .dataframe tbody tr th:only-of-type {\n",
       "        vertical-align: middle;\n",
       "    }\n",
       "\n",
       "    .dataframe tbody tr th {\n",
       "        vertical-align: top;\n",
       "    }\n",
       "\n",
       "    .dataframe thead th {\n",
       "        text-align: right;\n",
       "    }\n",
       "</style>\n",
       "<table border=\"1\" class=\"dataframe\">\n",
       "  <thead>\n",
       "    <tr style=\"text-align: right;\">\n",
       "      <th></th>\n",
       "      <th>0</th>\n",
       "      <th>1</th>\n",
       "      <th>2</th>\n",
       "      <th>3</th>\n",
       "      <th>4</th>\n",
       "      <th>5</th>\n",
       "      <th>6</th>\n",
       "      <th>7</th>\n",
       "      <th>8</th>\n",
       "      <th>9</th>\n",
       "      <th>...</th>\n",
       "      <th>37</th>\n",
       "      <th>38</th>\n",
       "      <th>39</th>\n",
       "      <th>40</th>\n",
       "      <th>41</th>\n",
       "      <th>42</th>\n",
       "      <th>43</th>\n",
       "      <th>44</th>\n",
       "      <th>45</th>\n",
       "      <th>46</th>\n",
       "    </tr>\n",
       "  </thead>\n",
       "  <tbody>\n",
       "    <tr>\n",
       "      <th>0</th>\n",
       "      <td>-0.182764</td>\n",
       "      <td>0.804030</td>\n",
       "      <td>-0.718420</td>\n",
       "      <td>-0.568359</td>\n",
       "      <td>-0.411313</td>\n",
       "      <td>-0.239065</td>\n",
       "      <td>-0.356684</td>\n",
       "      <td>-0.523651</td>\n",
       "      <td>-0.184906</td>\n",
       "      <td>-0.165595</td>\n",
       "      <td>...</td>\n",
       "      <td>-0.363373</td>\n",
       "      <td>-0.105892</td>\n",
       "      <td>-0.661400</td>\n",
       "      <td>-0.312913</td>\n",
       "      <td>-0.12781</td>\n",
       "      <td>-0.11226</td>\n",
       "      <td>-0.35072</td>\n",
       "      <td>-0.204491</td>\n",
       "      <td>-0.184309</td>\n",
       "      <td>0.472521</td>\n",
       "    </tr>\n",
       "    <tr>\n",
       "      <th>1</th>\n",
       "      <td>-0.937547</td>\n",
       "      <td>-0.097112</td>\n",
       "      <td>-0.679683</td>\n",
       "      <td>-0.568359</td>\n",
       "      <td>-0.411313</td>\n",
       "      <td>-0.239065</td>\n",
       "      <td>-0.356684</td>\n",
       "      <td>-0.523651</td>\n",
       "      <td>-0.184906</td>\n",
       "      <td>-0.165595</td>\n",
       "      <td>...</td>\n",
       "      <td>-0.363373</td>\n",
       "      <td>-0.105892</td>\n",
       "      <td>-0.661400</td>\n",
       "      <td>-0.312913</td>\n",
       "      <td>-0.12781</td>\n",
       "      <td>-0.11226</td>\n",
       "      <td>-0.35072</td>\n",
       "      <td>-0.204491</td>\n",
       "      <td>-0.184309</td>\n",
       "      <td>0.472521</td>\n",
       "    </tr>\n",
       "    <tr>\n",
       "      <th>2</th>\n",
       "      <td>-0.465807</td>\n",
       "      <td>-0.157360</td>\n",
       "      <td>0.404962</td>\n",
       "      <td>1.050204</td>\n",
       "      <td>-0.411313</td>\n",
       "      <td>-0.239065</td>\n",
       "      <td>2.803606</td>\n",
       "      <td>-0.523651</td>\n",
       "      <td>-0.184906</td>\n",
       "      <td>-0.165595</td>\n",
       "      <td>...</td>\n",
       "      <td>-0.363373</td>\n",
       "      <td>-0.105892</td>\n",
       "      <td>1.511945</td>\n",
       "      <td>-0.312913</td>\n",
       "      <td>-0.12781</td>\n",
       "      <td>-0.11226</td>\n",
       "      <td>-0.35072</td>\n",
       "      <td>-0.204491</td>\n",
       "      <td>-0.184309</td>\n",
       "      <td>0.472521</td>\n",
       "    </tr>\n",
       "    <tr>\n",
       "      <th>3</th>\n",
       "      <td>-2.069721</td>\n",
       "      <td>-0.315873</td>\n",
       "      <td>0.269381</td>\n",
       "      <td>0.079067</td>\n",
       "      <td>-0.411313</td>\n",
       "      <td>-0.239065</td>\n",
       "      <td>-0.356684</td>\n",
       "      <td>-0.523651</td>\n",
       "      <td>-0.184906</td>\n",
       "      <td>-0.165595</td>\n",
       "      <td>...</td>\n",
       "      <td>-0.363373</td>\n",
       "      <td>-0.105892</td>\n",
       "      <td>-0.661400</td>\n",
       "      <td>-0.312913</td>\n",
       "      <td>-0.12781</td>\n",
       "      <td>-0.11226</td>\n",
       "      <td>-0.35072</td>\n",
       "      <td>-0.204491</td>\n",
       "      <td>-0.184309</td>\n",
       "      <td>0.472521</td>\n",
       "    </tr>\n",
       "    <tr>\n",
       "      <th>4</th>\n",
       "      <td>0.383324</td>\n",
       "      <td>-0.442812</td>\n",
       "      <td>-0.609956</td>\n",
       "      <td>-0.568359</td>\n",
       "      <td>-0.411313</td>\n",
       "      <td>-0.239065</td>\n",
       "      <td>-0.356684</td>\n",
       "      <td>-0.523651</td>\n",
       "      <td>-0.184906</td>\n",
       "      <td>6.038825</td>\n",
       "      <td>...</td>\n",
       "      <td>2.751990</td>\n",
       "      <td>-0.105892</td>\n",
       "      <td>-0.661400</td>\n",
       "      <td>-0.312913</td>\n",
       "      <td>-0.12781</td>\n",
       "      <td>-0.11226</td>\n",
       "      <td>-0.35072</td>\n",
       "      <td>-0.204491</td>\n",
       "      <td>-0.184309</td>\n",
       "      <td>0.472521</td>\n",
       "    </tr>\n",
       "  </tbody>\n",
       "</table>\n",
       "<p>5 rows × 47 columns</p>\n",
       "</div>"
      ],
      "text/plain": [
       "         0         1         2         3         4         5         6   \\\n",
       "0 -0.182764  0.804030 -0.718420 -0.568359 -0.411313 -0.239065 -0.356684   \n",
       "1 -0.937547 -0.097112 -0.679683 -0.568359 -0.411313 -0.239065 -0.356684   \n",
       "2 -0.465807 -0.157360  0.404962  1.050204 -0.411313 -0.239065  2.803606   \n",
       "3 -2.069721 -0.315873  0.269381  0.079067 -0.411313 -0.239065 -0.356684   \n",
       "4  0.383324 -0.442812 -0.609956 -0.568359 -0.411313 -0.239065 -0.356684   \n",
       "\n",
       "         7         8         9   ...        37        38        39        40  \\\n",
       "0 -0.523651 -0.184906 -0.165595  ... -0.363373 -0.105892 -0.661400 -0.312913   \n",
       "1 -0.523651 -0.184906 -0.165595  ... -0.363373 -0.105892 -0.661400 -0.312913   \n",
       "2 -0.523651 -0.184906 -0.165595  ... -0.363373 -0.105892  1.511945 -0.312913   \n",
       "3 -0.523651 -0.184906 -0.165595  ... -0.363373 -0.105892 -0.661400 -0.312913   \n",
       "4 -0.523651 -0.184906  6.038825  ...  2.751990 -0.105892 -0.661400 -0.312913   \n",
       "\n",
       "        41       42       43        44        45        46  \n",
       "0 -0.12781 -0.11226 -0.35072 -0.204491 -0.184309  0.472521  \n",
       "1 -0.12781 -0.11226 -0.35072 -0.204491 -0.184309  0.472521  \n",
       "2 -0.12781 -0.11226 -0.35072 -0.204491 -0.184309  0.472521  \n",
       "3 -0.12781 -0.11226 -0.35072 -0.204491 -0.184309  0.472521  \n",
       "4 -0.12781 -0.11226 -0.35072 -0.204491 -0.184309  0.472521  \n",
       "\n",
       "[5 rows x 47 columns]"
      ]
     },
     "execution_count": 13,
     "metadata": {},
     "output_type": "execute_result"
    }
   ],
   "source": [
    "# Feature Scaling \n",
    "# Only on Independent Variable to convert them into values ranging from -1 to +1\n",
    "\n",
    "from sklearn.preprocessing import StandardScaler\n",
    "\n",
    "sc = StandardScaler()\n",
    "x_train = sc.fit_transform(x_train)\n",
    "x_test = sc.fit_transform(x_test)\n",
    "\n",
    "x_train = pd.DataFrame(x_train)\n",
    "x_train.head()"
   ]
  },
  {
   "cell_type": "markdown",
   "id": "dd48c0de",
   "metadata": {},
   "source": [
    "### Decision Tree"
   ]
  },
  {
   "cell_type": "code",
   "execution_count": 14,
   "id": "f183ff3b",
   "metadata": {},
   "outputs": [
    {
     "name": "stdout",
     "output_type": "stream",
     "text": [
      "Training Accuracy : 1.0\n",
      "Testing Accuaracy : 0.8640184021941077\n",
      "[[9159  819]\n",
      " [ 718  607]]\n"
     ]
    }
   ],
   "source": [
    "from sklearn.tree import DecisionTreeClassifier\n",
    "from sklearn.metrics import confusion_matrix\n",
    "\n",
    "dt_model = DecisionTreeClassifier() \n",
    "dt_model.fit(x_train, y_train)\n",
    "\n",
    "y_pred = dt_model.predict(x_test)\n",
    "\n",
    "print(\"Training Accuracy :\", dt_model.score(x_train, y_train))\n",
    "print(\"Testing Accuaracy :\", dt_model.score(x_test, y_test))\n",
    "\n",
    "cm = confusion_matrix(y_test, y_pred)\n",
    "print(cm)"
   ]
  },
  {
   "cell_type": "markdown",
   "id": "21d5c8dd",
   "metadata": {},
   "source": [
    "### Random Forest"
   ]
  },
  {
   "cell_type": "code",
   "execution_count": 15,
   "id": "128810c8",
   "metadata": {},
   "outputs": [
    {
     "name": "stdout",
     "output_type": "stream",
     "text": [
      "Training Accuracy : 0.9999410168691755\n",
      "Testing Accuracy : 0.9002919578872866\n",
      "[[9677  301]\n",
      " [ 826  499]]\n"
     ]
    }
   ],
   "source": [
    "from sklearn.ensemble import RandomForestClassifier\n",
    "\n",
    "rf_model = RandomForestClassifier()\n",
    "rf_model.fit(x_train, y_train)\n",
    "\n",
    "y_pred = rf_model.predict(x_test)\n",
    "\n",
    "print(\"Training Accuracy :\", rf_model.score(x_train, y_train))\n",
    "print(\"Testing Accuracy :\", rf_model.score(x_test, y_test))\n",
    "\n",
    "cm = confusion_matrix(y_test, y_pred)\n",
    "print(cm)"
   ]
  },
  {
   "cell_type": "code",
   "execution_count": 16,
   "id": "28ab8c7e",
   "metadata": {},
   "outputs": [
    {
     "name": "stdout",
     "output_type": "stream",
     "text": [
      "[0.90061929 0.89501622 0.89943969 0.89973459 0.90209378 0.90238868\n",
      " 0.90504276 0.90917134 0.90943953 0.90530973]\n"
     ]
    }
   ],
   "source": [
    "# k fold cross validation\n",
    "\n",
    "from sklearn.model_selection import cross_val_score\n",
    "\n",
    "cvs = cross_val_score(estimator = rf_model, X = x_train, y = y_train, cv = 10)\n",
    "print(cvs)"
   ]
  },
  {
   "cell_type": "code",
   "execution_count": 17,
   "id": "b3b9f6ac",
   "metadata": {},
   "outputs": [
    {
     "name": "stdout",
     "output_type": "stream",
     "text": [
      "Mean Accuracy : 0.9028255602849466\n",
      "Variance : 0.004274324985688046\n"
     ]
    }
   ],
   "source": [
    "print(\"Mean Accuracy :\", cvs.mean())\n",
    "print(\"Variance :\", cvs.std())"
   ]
  },
  {
   "cell_type": "markdown",
   "id": "8a8bc5a0",
   "metadata": {},
   "source": [
    "### Logistic Regression"
   ]
  },
  {
   "cell_type": "code",
   "execution_count": 18,
   "id": "af40c985",
   "metadata": {},
   "outputs": [
    {
     "name": "stdout",
     "output_type": "stream",
     "text": [
      "Training Accuracy : 0.9019700365695411\n",
      "Testing Accuracy : 0.9005573741484562\n",
      "[[9707  271]\n",
      " [ 853  472]]\n"
     ]
    }
   ],
   "source": [
    "from sklearn.linear_model import LogisticRegression\n",
    "\n",
    "lr_model = LogisticRegression()\n",
    "lr_model.fit(x_train, y_train)\n",
    "\n",
    "y_pred = lr_model.predict(x_test)\n",
    "\n",
    "print(\"Training Accuracy :\", lr_model.score(x_train, y_train))\n",
    "print(\"Testing Accuracy :\", lr_model.score(x_test, y_test))\n",
    "\n",
    "cm = confusion_matrix(y_test, y_pred)\n",
    "print(cm)"
   ]
  },
  {
   "cell_type": "markdown",
   "id": "e582f9b8",
   "metadata": {},
   "source": [
    "### Support Vector Machine"
   ]
  },
  {
   "cell_type": "code",
   "execution_count": 19,
   "id": "8836eb86",
   "metadata": {},
   "outputs": [
    {
     "name": "stdout",
     "output_type": "stream",
     "text": [
      "Training Accuracy : 0.9143564940427038\n",
      "Testing Accuracy : 0.8979916836238166\n",
      "[[9757  221]\n",
      " [ 932  393]]\n"
     ]
    }
   ],
   "source": [
    "from sklearn.svm import SVC\n",
    "\n",
    "svc_model = SVC()\n",
    "svc_model.fit(x_train, y_train)\n",
    "\n",
    "y_pred = svc_model.predict(x_test)\n",
    "\n",
    "print(\"Training Accuracy :\", svc_model.score(x_train, y_train))\n",
    "print(\"Testing Accuracy :\", svc_model.score(x_test, y_test))\n",
    "\n",
    "cm = confusion_matrix(y_test, y_pred)\n",
    "print(cm)"
   ]
  },
  {
   "cell_type": "code",
   "execution_count": 20,
   "id": "c1b55ce6",
   "metadata": {},
   "outputs": [
    {
     "name": "stdout",
     "output_type": "stream",
     "text": [
      "[0.89442642 0.90150398 0.90032439 0.89619581 0.8979652  0.90238868\n",
      " 0.90327337 0.91005603 0.90235988 0.89941003]\n"
     ]
    }
   ],
   "source": [
    "# k fold cross validatio\n",
    "from sklearn.model_selection import cross_val_score\n",
    "\n",
    "cvs = cross_val_score(estimator = svc_model, X = x_train, y = y_train, cv = 10)\n",
    "print(cvs)"
   ]
  },
  {
   "cell_type": "code",
   "execution_count": 21,
   "id": "e8947b44",
   "metadata": {},
   "outputs": [],
   "source": [
    "all_models = {\n",
    "    'Decision Tree': dt_model,\n",
    "    'Random Forest': rf_model,\n",
    "    'Logistic Regression': lr_model,\n",
    "    'Support Vector Machine': svc_model\n",
    "}"
   ]
  },
  {
   "cell_type": "markdown",
   "id": "e05399fc",
   "metadata": {},
   "source": [
    "### Let us predict the output with one example \n",
    "#### We are wroking with two dataset"
   ]
  },
  {
   "cell_type": "code",
   "execution_count": 33,
   "id": "d33e142d",
   "metadata": {
    "scrolled": true
   },
   "outputs": [
    {
     "data": {
      "text/plain": [
       "age                 44\n",
       "job             admin.\n",
       "marital        married\n",
       "education    secondary\n",
       "default             no\n",
       "balance           -372\n",
       "housing            yes\n",
       "loan                no\n",
       "month              may\n",
       "duration           172\n",
       "campaign             1\n",
       "pdays               -1\n",
       "previous             0\n",
       "poutcome       unknown\n",
       "y                   no\n",
       "Name: 25, dtype: object"
      ]
     },
     "execution_count": 33,
     "metadata": {},
     "output_type": "execute_result"
    }
   ],
   "source": [
    "search_query = data.iloc[25,:]\n",
    "search_query"
   ]
  },
  {
   "cell_type": "code",
   "execution_count": 34,
   "id": "74dde74b",
   "metadata": {
    "scrolled": true
   },
   "outputs": [
    {
     "name": "stdout",
     "output_type": "stream",
     "text": [
      "\n",
      " Predicting with Decision Tree Model with accuracy - 86.40184021941077 %\n",
      " What our model predicts =>  [0]\n",
      " What actual value is  =>  no\n",
      "\n",
      " Predicting with Random Forest Model with accuracy - 90.02919578872866 %\n",
      " What our model predicts =>  [0]\n",
      " What actual value is  =>  no\n",
      "\n",
      " Predicting with Logistic Regression Model with accuracy - 90.05573741484561 %\n",
      " What our model predicts =>  [0]\n",
      " What actual value is  =>  no\n",
      "\n",
      " Predicting with Support Vector Machine Model with accuracy - 89.79916836238166 %\n",
      " What our model predicts =>  [0]\n",
      " What actual value is  =>  no\n"
     ]
    }
   ],
   "source": [
    "def get_accuracy(search_query):\n",
    "    def get_all_col(enc): ## This is function to get the list of all the encoded columns\n",
    "        all_cat_col = []\n",
    "        for cat in enc.categories_:\n",
    "            for val in cat:\n",
    "                all_cat_col.append(val)\n",
    "        return all_cat_col\n",
    "\n",
    "    query_dataframe = pd.DataFrame(search_query).T\n",
    "    query_output = query_dataframe['y']\n",
    "    query_data = query_dataframe.drop(['y'],axis=1)\n",
    "    q_ohec = enc.transform(query_data[cat_col])\n",
    "    q_encoded_df = pd.DataFrame(q_ohec,columns=get_all_col(enc)) ## Creating DataFrame from ndarray\n",
    "    query_data = query_data.join(q_encoded_df).drop(cat_col,axis=1)\n",
    "    query_data = query_data.replace(np.nan,0)\n",
    "    query_data = sc.transform(query_data)\n",
    "\n",
    "    ## Iterating through all the models\n",
    "    for model_name,model in all_models.items():\n",
    "        print(f\"\\n Predicting with {model_name} Model with accuracy -\", model.score(x_test, y_test)*100,\"%\")\n",
    "        print(f\" What our model predicts => \",model.predict(query_data))\n",
    "        print(f\" What actual value is  => \",query_output.values[0])\n",
    "get_accuracy(search_query)"
   ]
  },
  {
   "cell_type": "code",
   "execution_count": 31,
   "id": "a8e32746",
   "metadata": {},
   "outputs": [
    {
     "data": {
      "text/plain": [
       "age                 72\n",
       "job            retired\n",
       "marital        married\n",
       "education    secondary\n",
       "default             no\n",
       "balance           5715\n",
       "housing             no\n",
       "loan                no\n",
       "month              nov\n",
       "duration          1127\n",
       "campaign             5\n",
       "pdays              184\n",
       "previous             3\n",
       "poutcome       success\n",
       "y                  yes\n",
       "Name: 45208, dtype: object"
      ]
     },
     "execution_count": 31,
     "metadata": {},
     "output_type": "execute_result"
    }
   ],
   "source": [
    "search_query = data.iloc[45208,:]\n",
    "search_query"
   ]
  },
  {
   "cell_type": "code",
   "execution_count": 32,
   "id": "f6bf3922",
   "metadata": {},
   "outputs": [
    {
     "name": "stdout",
     "output_type": "stream",
     "text": [
      "\n",
      " Predicting with Decision Tree Model with accuracy - 86.40184021941077 %\n",
      " What our model predicts =>  [0]\n",
      " What actual value is  =>  yes\n",
      "\n",
      " Predicting with Random Forest Model with accuracy - 90.02919578872866 %\n",
      " What our model predicts =>  [0]\n",
      " What actual value is  =>  yes\n",
      "\n",
      " Predicting with Logistic Regression Model with accuracy - 90.05573741484561 %\n",
      " What our model predicts =>  [1]\n",
      " What actual value is  =>  yes\n",
      "\n",
      " Predicting with Support Vector Machine Model with accuracy - 89.79916836238166 %\n",
      " What our model predicts =>  [0]\n",
      " What actual value is  =>  yes\n"
     ]
    }
   ],
   "source": [
    "def get_accuracy(search_query):\n",
    "    def get_all_col(enc): ## This is function to get the list of all the encoded columns\n",
    "        all_cat_col = []\n",
    "        for cat in enc.categories_:\n",
    "            for val in cat:\n",
    "                all_cat_col.append(val)\n",
    "        return all_cat_col\n",
    "\n",
    "    query_dataframe = pd.DataFrame(search_query).T\n",
    "    query_output = query_dataframe['y']\n",
    "    query_data = query_dataframe.drop(['y'],axis=1)\n",
    "    q_ohec = enc.transform(query_data[cat_col])\n",
    "    q_encoded_df = pd.DataFrame(q_ohec,columns=get_all_col(enc)) ## Creating DataFrame from ndarray\n",
    "    query_data = query_data.join(q_encoded_df).drop(cat_col,axis=1)\n",
    "    query_data = query_data.replace(np.nan,0)\n",
    "    query_data = sc.transform(query_data)\n",
    "\n",
    "    ## Iterating through all the models\n",
    "    for model_name,model in all_models.items():\n",
    "        print(f\"\\n Predicting with {model_name} Model with accuracy -\", model.score(x_test, y_test)*100,\"%\")\n",
    "        print(f\" What our model predicts => \",model.predict(query_data))\n",
    "        print(f\" What actual value is  => \",query_output.values[0])\n",
    "get_accuracy(search_query)"
   ]
  },
  {
   "cell_type": "markdown",
   "id": "c7da704f",
   "metadata": {},
   "source": [
    "### Conclusion"
   ]
  },
  {
   "cell_type": "markdown",
   "id": "8ca7b944",
   "metadata": {},
   "source": [
    "As we can conclude from our analysis that regression model works out to be the best model with accuracy of 90.055% \n",
    "\n"
   ]
  }
 ],
 "metadata": {
  "kernelspec": {
   "display_name": "Python 3 (ipykernel)",
   "language": "python",
   "name": "python3"
  },
  "language_info": {
   "codemirror_mode": {
    "name": "ipython",
    "version": 3
   },
   "file_extension": ".py",
   "mimetype": "text/x-python",
   "name": "python",
   "nbconvert_exporter": "python",
   "pygments_lexer": "ipython3",
   "version": "3.7.0"
  }
 },
 "nbformat": 4,
 "nbformat_minor": 5
}
